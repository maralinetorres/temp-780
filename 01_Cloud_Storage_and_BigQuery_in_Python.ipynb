{
  "nbformat": 4,
  "nbformat_minor": 0,
  "metadata": {
    "colab": {
      "name": "01-Cloud-Storage-and-BigQuery-in-Python.ipynb",
      "provenance": [],
      "collapsed_sections": [],
      "include_colab_link": true
    },
    "kernelspec": {
      "name": "python3",
      "display_name": "Python 3"
    }
  },
  "cells": [
    {
      "cell_type": "markdown",
      "metadata": {
        "id": "view-in-github",
        "colab_type": "text"
      },
      "source": [
        "<a href=\"https://colab.research.google.com/github/maralinetorres/temp-780/blob/main/01_Cloud_Storage_and_BigQuery_in_Python.ipynb\" target=\"_parent\"><img src=\"https://colab.research.google.com/assets/colab-badge.svg\" alt=\"Open In Colab\"/></a>"
      ]
    },
    {
      "cell_type": "markdown",
      "metadata": {
        "id": "60_IM3-3bBIH"
      },
      "source": [
        "# Using Cloud Storage and BigQuery in Python"
      ]
    },
    {
      "cell_type": "code",
      "metadata": {
        "id": "SBEEA871bgeO"
      },
      "source": [
        "import pandas as pd\n",
        "from google.cloud import storage\n",
        "from google.colab import auth\n",
        "auth.authenticate_user()"
      ],
      "execution_count": null,
      "outputs": []
    },
    {
      "cell_type": "markdown",
      "metadata": {
        "id": "8oO6FNEybq-e"
      },
      "source": [
        "### Download data from Cloud Storage"
      ]
    },
    {
      "cell_type": "code",
      "metadata": {
        "id": "BC3ky0wMaunt"
      },
      "source": [
        "def download_blob(project_id, bucket_name, source_blob_name, destination_file_name):\n",
        "    \"\"\"Downloads a blob from the bucket.\"\"\"\n",
        "    # project_id = \"your-project-id\"\n",
        "    # bucket_name = \"your-bucket-name\"\n",
        "    # source_blob_name = \"storage-object-name\"\n",
        "    # destination_file_name = \"local/path/to/file\"\n",
        "\n",
        "    storage_client = storage.Client(project_id)\n",
        "\n",
        "    bucket = storage_client.bucket(bucket_name)\n",
        "    blob = bucket.blob(source_blob_name)\n",
        "    blob.download_to_filename(destination_file_name)\n",
        "\n",
        "    print(\n",
        "        \"Blob {} downloaded to {}.\".format(\n",
        "            source_blob_name, destination_file_name\n",
        "        )\n",
        "    )"
      ],
      "execution_count": null,
      "outputs": []
    },
    {
      "cell_type": "code",
      "metadata": {
        "id": "jolmynInbc9J",
        "outputId": "c941f084-668b-4768-f2d0-68d7a35e5d7d",
        "colab": {
          "base_uri": "https://localhost:8080/"
        }
      },
      "source": [
        "download_blob(project_id='ba-780', bucket_name='ba-780', \n",
        "              source_blob_name='data/athlete_events.csv', \n",
        "              destination_file_name='athlete_events.csv')"
      ],
      "execution_count": null,
      "outputs": [
        {
          "output_type": "stream",
          "text": [
            "Blob data/athlete_events.csv downloaded to athlete_events.csv.\n"
          ],
          "name": "stdout"
        }
      ]
    },
    {
      "cell_type": "markdown",
      "metadata": {
        "id": "fxt0TcPYdKIj"
      },
      "source": [
        "### Loading to pandas and processing"
      ]
    },
    {
      "cell_type": "code",
      "metadata": {
        "id": "o97DKbf6cTSk",
        "outputId": "ece0d745-f275-4400-91f1-a4f9b60c7473",
        "colab": {
          "base_uri": "https://localhost:8080/",
          "height": 138
        }
      },
      "source": [
        "athlete_events = pd.read_csv('athlete_events.csv')\n",
        "athlete_events.head(3)"
      ],
      "execution_count": null,
      "outputs": [
        {
          "output_type": "execute_result",
          "data": {
            "text/html": [
              "<div>\n",
              "<style scoped>\n",
              "    .dataframe tbody tr th:only-of-type {\n",
              "        vertical-align: middle;\n",
              "    }\n",
              "\n",
              "    .dataframe tbody tr th {\n",
              "        vertical-align: top;\n",
              "    }\n",
              "\n",
              "    .dataframe thead th {\n",
              "        text-align: right;\n",
              "    }\n",
              "</style>\n",
              "<table border=\"1\" class=\"dataframe\">\n",
              "  <thead>\n",
              "    <tr style=\"text-align: right;\">\n",
              "      <th></th>\n",
              "      <th>ID</th>\n",
              "      <th>Name</th>\n",
              "      <th>Sex</th>\n",
              "      <th>Age</th>\n",
              "      <th>Height</th>\n",
              "      <th>Weight</th>\n",
              "      <th>Team</th>\n",
              "      <th>NOC</th>\n",
              "      <th>Games</th>\n",
              "      <th>Year</th>\n",
              "      <th>Season</th>\n",
              "      <th>City</th>\n",
              "      <th>Sport</th>\n",
              "      <th>Event</th>\n",
              "      <th>Medal</th>\n",
              "    </tr>\n",
              "  </thead>\n",
              "  <tbody>\n",
              "    <tr>\n",
              "      <th>0</th>\n",
              "      <td>1</td>\n",
              "      <td>A Dijiang</td>\n",
              "      <td>M</td>\n",
              "      <td>24.0</td>\n",
              "      <td>180.0</td>\n",
              "      <td>80.0</td>\n",
              "      <td>China</td>\n",
              "      <td>CHN</td>\n",
              "      <td>1992 Summer</td>\n",
              "      <td>1992</td>\n",
              "      <td>Summer</td>\n",
              "      <td>Barcelona</td>\n",
              "      <td>Basketball</td>\n",
              "      <td>Basketball Men's Basketball</td>\n",
              "      <td>NaN</td>\n",
              "    </tr>\n",
              "    <tr>\n",
              "      <th>1</th>\n",
              "      <td>2</td>\n",
              "      <td>A Lamusi</td>\n",
              "      <td>M</td>\n",
              "      <td>23.0</td>\n",
              "      <td>170.0</td>\n",
              "      <td>60.0</td>\n",
              "      <td>China</td>\n",
              "      <td>CHN</td>\n",
              "      <td>2012 Summer</td>\n",
              "      <td>2012</td>\n",
              "      <td>Summer</td>\n",
              "      <td>London</td>\n",
              "      <td>Judo</td>\n",
              "      <td>Judo Men's Extra-Lightweight</td>\n",
              "      <td>NaN</td>\n",
              "    </tr>\n",
              "    <tr>\n",
              "      <th>2</th>\n",
              "      <td>3</td>\n",
              "      <td>Gunnar Nielsen Aaby</td>\n",
              "      <td>M</td>\n",
              "      <td>24.0</td>\n",
              "      <td>NaN</td>\n",
              "      <td>NaN</td>\n",
              "      <td>Denmark</td>\n",
              "      <td>DEN</td>\n",
              "      <td>1920 Summer</td>\n",
              "      <td>1920</td>\n",
              "      <td>Summer</td>\n",
              "      <td>Antwerpen</td>\n",
              "      <td>Football</td>\n",
              "      <td>Football Men's Football</td>\n",
              "      <td>NaN</td>\n",
              "    </tr>\n",
              "  </tbody>\n",
              "</table>\n",
              "</div>"
            ],
            "text/plain": [
              "   ID                 Name Sex  ...       Sport                         Event  Medal\n",
              "0   1            A Dijiang   M  ...  Basketball   Basketball Men's Basketball    NaN\n",
              "1   2             A Lamusi   M  ...        Judo  Judo Men's Extra-Lightweight    NaN\n",
              "2   3  Gunnar Nielsen Aaby   M  ...    Football       Football Men's Football    NaN\n",
              "\n",
              "[3 rows x 15 columns]"
            ]
          },
          "metadata": {
            "tags": []
          },
          "execution_count": 9
        }
      ]
    },
    {
      "cell_type": "code",
      "metadata": {
        "id": "BPiyMYn_c3rt",
        "outputId": "4c82b61f-4e4d-4602-9ff3-c88c75c29857",
        "colab": {
          "base_uri": "https://localhost:8080/"
        }
      },
      "source": [
        "athlete_events_summer_2012 = athlete_events[athlete_events.Games == '2012 Summer']\n",
        "athlete_events_summer_2012.shape"
      ],
      "execution_count": null,
      "outputs": [
        {
          "output_type": "execute_result",
          "data": {
            "text/plain": [
              "(12920, 15)"
            ]
          },
          "metadata": {
            "tags": []
          },
          "execution_count": 10
        }
      ]
    },
    {
      "cell_type": "code",
      "metadata": {
        "id": "Kb5b-TysdhSA"
      },
      "source": [
        "# write to csv\n",
        "athlete_events_summer_2012.to_csv('athlete_events_summer_2012.csv')"
      ],
      "execution_count": null,
      "outputs": []
    },
    {
      "cell_type": "markdown",
      "metadata": {
        "id": "j1lg5-KddN_N"
      },
      "source": [
        "### Uploading to Cloud Storage bucket"
      ]
    },
    {
      "cell_type": "code",
      "metadata": {
        "id": "8ce19wQxdY_5"
      },
      "source": [
        "def upload_blob(project_id, bucket_name, source_file_name, destination_blob_name):\n",
        "    \"\"\"Uploads a file to the bucket.\"\"\"\n",
        "    # project_id = \"your-project-id\"\n",
        "    # bucket_name = \"your-bucket-name\"\n",
        "    # source_file_name = \"local/path/to/file\"\n",
        "    # destination_blob_name = \"storage-object-name\"\n",
        "\n",
        "    storage_client = storage.Client(project_id)\n",
        "    bucket = storage_client.bucket(bucket_name)\n",
        "    blob = bucket.blob(destination_blob_name)\n",
        "\n",
        "    blob.upload_from_filename(source_file_name)\n",
        "\n",
        "    print(\n",
        "        \"File {} uploaded to {}.\".format(\n",
        "            source_file_name, destination_blob_name\n",
        "        )\n",
        "    )"
      ],
      "execution_count": null,
      "outputs": []
    },
    {
      "cell_type": "code",
      "metadata": {
        "id": "1cyhOMJ3dEjU",
        "outputId": "dcbb863a-a7ad-45aa-faef-4e36e98883b3",
        "colab": {
          "base_uri": "https://localhost:8080/"
        }
      },
      "source": [
        "upload_blob(project_id='ba-780', bucket_name='ba-780', \n",
        "            source_file_name='athlete_events_summer_2012.csv', \n",
        "            destination_blob_name='data/athlete_events_summer_2012.csv')"
      ],
      "execution_count": null,
      "outputs": [
        {
          "output_type": "stream",
          "text": [
            "File athlete_events_summer_2012.csv uploaded to data/athlete_events_summer_2012.csv.\n"
          ],
          "name": "stdout"
        }
      ]
    },
    {
      "cell_type": "markdown",
      "metadata": {
        "id": "kVYIphbqd2oA"
      },
      "source": [
        "### Download from BigQuery with Pandas"
      ]
    },
    {
      "cell_type": "code",
      "metadata": {
        "id": "D6u6ggOKdyMq"
      },
      "source": [
        "customerChurn = pd.io.gbq.read_gbq(f'''\n",
        "  SELECT * FROM `ba-780.examples.customerChurn`\n",
        "''', project_id=\"ba-780\")"
      ],
      "execution_count": null,
      "outputs": []
    },
    {
      "cell_type": "code",
      "metadata": {
        "id": "L0CAw835ec4A",
        "outputId": "5cb3a7a6-d3b9-4ea4-8fdb-b25c17dcde0c",
        "colab": {
          "base_uri": "https://localhost:8080/",
          "height": 305
        }
      },
      "source": [
        "customerChurn.head()"
      ],
      "execution_count": null,
      "outputs": [
        {
          "output_type": "execute_result",
          "data": {
            "text/html": [
              "<div>\n",
              "<style scoped>\n",
              "    .dataframe tbody tr th:only-of-type {\n",
              "        vertical-align: middle;\n",
              "    }\n",
              "\n",
              "    .dataframe tbody tr th {\n",
              "        vertical-align: top;\n",
              "    }\n",
              "\n",
              "    .dataframe thead th {\n",
              "        text-align: right;\n",
              "    }\n",
              "</style>\n",
              "<table border=\"1\" class=\"dataframe\">\n",
              "  <thead>\n",
              "    <tr style=\"text-align: right;\">\n",
              "      <th></th>\n",
              "      <th>customerID</th>\n",
              "      <th>gender</th>\n",
              "      <th>SeniorCitizen</th>\n",
              "      <th>Partner</th>\n",
              "      <th>Dependents</th>\n",
              "      <th>tenure</th>\n",
              "      <th>PhoneService</th>\n",
              "      <th>MultipleLines</th>\n",
              "      <th>InternetService</th>\n",
              "      <th>OnlineSecurity</th>\n",
              "      <th>OnlineBackup</th>\n",
              "      <th>DeviceProtection</th>\n",
              "      <th>TechSupport</th>\n",
              "      <th>StreamingTV</th>\n",
              "      <th>StreamingMovies</th>\n",
              "      <th>Contract</th>\n",
              "      <th>PaperlessBilling</th>\n",
              "      <th>PaymentMethod</th>\n",
              "      <th>MonthlyCharges</th>\n",
              "      <th>TotalCharges</th>\n",
              "      <th>Churn</th>\n",
              "    </tr>\n",
              "  </thead>\n",
              "  <tbody>\n",
              "    <tr>\n",
              "      <th>0</th>\n",
              "      <td>9732-OUYRN</td>\n",
              "      <td>Female</td>\n",
              "      <td>0</td>\n",
              "      <td>True</td>\n",
              "      <td>False</td>\n",
              "      <td>49</td>\n",
              "      <td>True</td>\n",
              "      <td>No</td>\n",
              "      <td>No</td>\n",
              "      <td>No internet service</td>\n",
              "      <td>No internet service</td>\n",
              "      <td>No internet service</td>\n",
              "      <td>No internet service</td>\n",
              "      <td>No internet service</td>\n",
              "      <td>No internet service</td>\n",
              "      <td>One year</td>\n",
              "      <td>False</td>\n",
              "      <td>Credit card (automatic)</td>\n",
              "      <td>19.0</td>\n",
              "      <td>918.7</td>\n",
              "      <td>False</td>\n",
              "    </tr>\n",
              "    <tr>\n",
              "      <th>1</th>\n",
              "      <td>0661-KQHNK</td>\n",
              "      <td>Female</td>\n",
              "      <td>0</td>\n",
              "      <td>True</td>\n",
              "      <td>True</td>\n",
              "      <td>6</td>\n",
              "      <td>True</td>\n",
              "      <td>No</td>\n",
              "      <td>No</td>\n",
              "      <td>No internet service</td>\n",
              "      <td>No internet service</td>\n",
              "      <td>No internet service</td>\n",
              "      <td>No internet service</td>\n",
              "      <td>No internet service</td>\n",
              "      <td>No internet service</td>\n",
              "      <td>One year</td>\n",
              "      <td>False</td>\n",
              "      <td>Credit card (automatic)</td>\n",
              "      <td>19.0</td>\n",
              "      <td>105.5</td>\n",
              "      <td>False</td>\n",
              "    </tr>\n",
              "    <tr>\n",
              "      <th>2</th>\n",
              "      <td>4709-LKHYG</td>\n",
              "      <td>Female</td>\n",
              "      <td>0</td>\n",
              "      <td>True</td>\n",
              "      <td>True</td>\n",
              "      <td>29</td>\n",
              "      <td>True</td>\n",
              "      <td>No</td>\n",
              "      <td>No</td>\n",
              "      <td>No internet service</td>\n",
              "      <td>No internet service</td>\n",
              "      <td>No internet service</td>\n",
              "      <td>No internet service</td>\n",
              "      <td>No internet service</td>\n",
              "      <td>No internet service</td>\n",
              "      <td>One year</td>\n",
              "      <td>False</td>\n",
              "      <td>Electronic check</td>\n",
              "      <td>20.0</td>\n",
              "      <td>540.05</td>\n",
              "      <td>False</td>\n",
              "    </tr>\n",
              "    <tr>\n",
              "      <th>3</th>\n",
              "      <td>9824-QCJPK</td>\n",
              "      <td>Male</td>\n",
              "      <td>0</td>\n",
              "      <td>True</td>\n",
              "      <td>False</td>\n",
              "      <td>36</td>\n",
              "      <td>True</td>\n",
              "      <td>No</td>\n",
              "      <td>No</td>\n",
              "      <td>No internet service</td>\n",
              "      <td>No internet service</td>\n",
              "      <td>No internet service</td>\n",
              "      <td>No internet service</td>\n",
              "      <td>No internet service</td>\n",
              "      <td>No internet service</td>\n",
              "      <td>One year</td>\n",
              "      <td>False</td>\n",
              "      <td>Mailed check</td>\n",
              "      <td>20.0</td>\n",
              "      <td>666.75</td>\n",
              "      <td>False</td>\n",
              "    </tr>\n",
              "    <tr>\n",
              "      <th>4</th>\n",
              "      <td>4716-MRVEN</td>\n",
              "      <td>Female</td>\n",
              "      <td>0</td>\n",
              "      <td>False</td>\n",
              "      <td>False</td>\n",
              "      <td>29</td>\n",
              "      <td>True</td>\n",
              "      <td>No</td>\n",
              "      <td>No</td>\n",
              "      <td>No internet service</td>\n",
              "      <td>No internet service</td>\n",
              "      <td>No internet service</td>\n",
              "      <td>No internet service</td>\n",
              "      <td>No internet service</td>\n",
              "      <td>No internet service</td>\n",
              "      <td>One year</td>\n",
              "      <td>False</td>\n",
              "      <td>Mailed check</td>\n",
              "      <td>20.0</td>\n",
              "      <td>599.3</td>\n",
              "      <td>False</td>\n",
              "    </tr>\n",
              "  </tbody>\n",
              "</table>\n",
              "</div>"
            ],
            "text/plain": [
              "   customerID  gender  SeniorCitizen  ...  MonthlyCharges  TotalCharges  Churn\n",
              "0  9732-OUYRN  Female              0  ...            19.0         918.7  False\n",
              "1  0661-KQHNK  Female              0  ...            19.0         105.5  False\n",
              "2  4709-LKHYG  Female              0  ...            20.0        540.05  False\n",
              "3  9824-QCJPK    Male              0  ...            20.0        666.75  False\n",
              "4  4716-MRVEN  Female              0  ...            20.0         599.3  False\n",
              "\n",
              "[5 rows x 21 columns]"
            ]
          },
          "metadata": {
            "tags": []
          },
          "execution_count": 17
        }
      ]
    },
    {
      "cell_type": "code",
      "metadata": {
        "id": "ZayYZp9UeejM",
        "outputId": "0aee9f3a-0ec8-4bb7-8b1b-a66ab5d99222",
        "colab": {
          "base_uri": "https://localhost:8080/",
          "height": 168
        }
      },
      "source": [
        "customer_churn_monthly_vs_payMethod = customerChurn.groupby('PaymentMethod')['MonthlyCharges'].mean().to_frame().reset_index()\n",
        "customer_churn_monthly_vs_payMethod"
      ],
      "execution_count": null,
      "outputs": [
        {
          "output_type": "execute_result",
          "data": {
            "text/html": [
              "<div>\n",
              "<style scoped>\n",
              "    .dataframe tbody tr th:only-of-type {\n",
              "        vertical-align: middle;\n",
              "    }\n",
              "\n",
              "    .dataframe tbody tr th {\n",
              "        vertical-align: top;\n",
              "    }\n",
              "\n",
              "    .dataframe thead th {\n",
              "        text-align: right;\n",
              "    }\n",
              "</style>\n",
              "<table border=\"1\" class=\"dataframe\">\n",
              "  <thead>\n",
              "    <tr style=\"text-align: right;\">\n",
              "      <th></th>\n",
              "      <th>PaymentMethod</th>\n",
              "      <th>MonthlyCharges</th>\n",
              "    </tr>\n",
              "  </thead>\n",
              "  <tbody>\n",
              "    <tr>\n",
              "      <th>0</th>\n",
              "      <td>Bank transfer (automatic)</td>\n",
              "      <td>67.192649</td>\n",
              "    </tr>\n",
              "    <tr>\n",
              "      <th>1</th>\n",
              "      <td>Credit card (automatic)</td>\n",
              "      <td>66.512385</td>\n",
              "    </tr>\n",
              "    <tr>\n",
              "      <th>2</th>\n",
              "      <td>Electronic check</td>\n",
              "      <td>76.255814</td>\n",
              "    </tr>\n",
              "    <tr>\n",
              "      <th>3</th>\n",
              "      <td>Mailed check</td>\n",
              "      <td>43.917060</td>\n",
              "    </tr>\n",
              "  </tbody>\n",
              "</table>\n",
              "</div>"
            ],
            "text/plain": [
              "               PaymentMethod  MonthlyCharges\n",
              "0  Bank transfer (automatic)       67.192649\n",
              "1    Credit card (automatic)       66.512385\n",
              "2           Electronic check       76.255814\n",
              "3               Mailed check       43.917060"
            ]
          },
          "metadata": {
            "tags": []
          },
          "execution_count": 23
        }
      ]
    },
    {
      "cell_type": "code",
      "metadata": {
        "id": "dw_kR1ole4Mh",
        "outputId": "e747d5bf-c7e9-43ba-9d98-243a98b54f00",
        "colab": {
          "base_uri": "https://localhost:8080/"
        }
      },
      "source": [
        "customer_churn_monthly_vs_payMethod.to_gbq('temp.customer_churn_monthly_vs_payMethod',\n",
        "                                           project_id='ba-780',\n",
        "                                           if_exists='replace')"
      ],
      "execution_count": null,
      "outputs": [
        {
          "output_type": "stream",
          "text": [
            "1it [00:04,  4.82s/it]\n"
          ],
          "name": "stderr"
        }
      ]
    }
  ]
}