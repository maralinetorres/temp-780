{
  "nbformat": 4,
  "nbformat_minor": 0,
  "metadata": {
    "environment": {
      "name": "common-cpu.m56",
      "type": "gcloud",
      "uri": "gcr.io/deeplearning-platform-release/base-cpu:m56"
    },
    "kernelspec": {
      "display_name": "Python 3",
      "language": "python",
      "name": "python3"
    },
    "language_info": {
      "codemirror_mode": {
        "name": "ipython",
        "version": 3
      },
      "file_extension": ".py",
      "mimetype": "text/x-python",
      "name": "python",
      "nbconvert_exporter": "python",
      "pygments_lexer": "ipython3",
      "version": "3.7.8"
    },
    "colab": {
      "name": "BA780- MTR Analysis.ipynb",
      "provenance": [],
      "toc_visible": true,
      "include_colab_link": true
    }
  },
  "cells": [
    {
      "cell_type": "markdown",
      "metadata": {
        "id": "view-in-github",
        "colab_type": "text"
      },
      "source": [
        "<a href=\"https://colab.research.google.com/github/maralinetorres/temp-780/blob/main/BA780_MTR_Analysis.ipynb\" target=\"_parent\"><img src=\"https://colab.research.google.com/assets/colab-badge.svg\" alt=\"Open In Colab\"/></a>"
      ]
    },
    {
      "cell_type": "markdown",
      "metadata": {
        "id": "zXINsSrflOnd"
      },
      "source": [
        "## Load Data"
      ]
    },
    {
      "cell_type": "code",
      "metadata": {
        "id": "NyMqOvhFlOnh"
      },
      "source": [
        "import pandas as pd\n",
        "import seaborn as sns\n",
        "import matplotlib.pyplot as plt\n",
        "import datetime as dt\n",
        "\n",
        "youtube = pd.read_csv(\"YouTube Trending Videos dataset.csv\")"
      ],
      "execution_count": null,
      "outputs": []
    },
    {
      "cell_type": "code",
      "metadata": {
        "id": "AvtSfSTPlOnm",
        "outputId": "bcfeb760-1e95-450e-d2e7-da0c300062c0",
        "colab": {
          "base_uri": "https://localhost:8080/",
          "height": 875
        }
      },
      "source": [
        "youtube.head()"
      ],
      "execution_count": null,
      "outputs": [
        {
          "output_type": "execute_result",
          "data": {
            "text/html": [
              "<div>\n",
              "<style scoped>\n",
              "    .dataframe tbody tr th:only-of-type {\n",
              "        vertical-align: middle;\n",
              "    }\n",
              "\n",
              "    .dataframe tbody tr th {\n",
              "        vertical-align: top;\n",
              "    }\n",
              "\n",
              "    .dataframe thead th {\n",
              "        text-align: right;\n",
              "    }\n",
              "</style>\n",
              "<table border=\"1\" class=\"dataframe\">\n",
              "  <thead>\n",
              "    <tr style=\"text-align: right;\">\n",
              "      <th></th>\n",
              "      <th>video_id</th>\n",
              "      <th>title</th>\n",
              "      <th>publishedAt</th>\n",
              "      <th>channelTitle</th>\n",
              "      <th>categoryId</th>\n",
              "      <th>trending_date</th>\n",
              "      <th>view_count</th>\n",
              "      <th>likes</th>\n",
              "      <th>dislikes</th>\n",
              "      <th>comment_count</th>\n",
              "      <th>comments_disabled</th>\n",
              "      <th>ratings_disabled</th>\n",
              "      <th>Country</th>\n",
              "      <th>Category_name</th>\n",
              "      <th>publish_year</th>\n",
              "    </tr>\n",
              "  </thead>\n",
              "  <tbody>\n",
              "    <tr>\n",
              "      <th>0</th>\n",
              "      <td>T7Ux7BbkPDw</td>\n",
              "      <td>発表！全ガンダム大投票　第１部＆第２部　５月５日（土）</td>\n",
              "      <td>2018-05-06 18:18:16 UTC</td>\n",
              "      <td>a</td>\n",
              "      <td>1</td>\n",
              "      <td>2018-05-12 00:00:00 UTC</td>\n",
              "      <td>10428</td>\n",
              "      <td>93</td>\n",
              "      <td>3</td>\n",
              "      <td>3</td>\n",
              "      <td>False</td>\n",
              "      <td>False</td>\n",
              "      <td>Japan</td>\n",
              "      <td>Film &amp; Animation</td>\n",
              "      <td>2018</td>\n",
              "    </tr>\n",
              "    <tr>\n",
              "      <th>1</th>\n",
              "      <td>m0zFDr69XFI</td>\n",
              "      <td>【ゆっくり実況】 PCぶっ壊れたかと思ったホラーゲーム Repeat 【ホラーゲーム】</td>\n",
              "      <td>2018-03-11 14:58:55 UTC</td>\n",
              "      <td>AZ</td>\n",
              "      <td>20</td>\n",
              "      <td>2018-03-12 00:00:00 UTC</td>\n",
              "      <td>6560</td>\n",
              "      <td>99</td>\n",
              "      <td>13</td>\n",
              "      <td>48</td>\n",
              "      <td>False</td>\n",
              "      <td>False</td>\n",
              "      <td>Japan</td>\n",
              "      <td>Gaming</td>\n",
              "      <td>2018</td>\n",
              "    </tr>\n",
              "    <tr>\n",
              "      <th>2</th>\n",
              "      <td>33xKehpPEd4</td>\n",
              "      <td>シャンシャン 飼育員さんとおにごっこ♪</td>\n",
              "      <td>2018-04-16 08:00:02 UTC</td>\n",
              "      <td>BG</td>\n",
              "      <td>15</td>\n",
              "      <td>2018-04-17 00:00:00 UTC</td>\n",
              "      <td>15395</td>\n",
              "      <td>180</td>\n",
              "      <td>14</td>\n",
              "      <td>13</td>\n",
              "      <td>False</td>\n",
              "      <td>False</td>\n",
              "      <td>Japan</td>\n",
              "      <td>Pets &amp; Animals</td>\n",
              "      <td>2018</td>\n",
              "    </tr>\n",
              "    <tr>\n",
              "      <th>3</th>\n",
              "      <td>guzXOdxVAFY</td>\n",
              "      <td>【特集】シャンシャン大好きな飼育員さん</td>\n",
              "      <td>2018-04-25 23:00:04 UTC</td>\n",
              "      <td>BG</td>\n",
              "      <td>15</td>\n",
              "      <td>2018-04-27 00:00:00 UTC</td>\n",
              "      <td>23964</td>\n",
              "      <td>238</td>\n",
              "      <td>8</td>\n",
              "      <td>7</td>\n",
              "      <td>False</td>\n",
              "      <td>False</td>\n",
              "      <td>Japan</td>\n",
              "      <td>Pets &amp; Animals</td>\n",
              "      <td>2018</td>\n",
              "    </tr>\n",
              "    <tr>\n",
              "      <th>4</th>\n",
              "      <td>OdM4Wh1ssP8</td>\n",
              "      <td>飼育員さんにもママにも抱っこされるシャンシャン♪</td>\n",
              "      <td>2018-05-10 08:00:00 UTC</td>\n",
              "      <td>BG</td>\n",
              "      <td>15</td>\n",
              "      <td>2018-05-11 00:00:00 UTC</td>\n",
              "      <td>13687</td>\n",
              "      <td>149</td>\n",
              "      <td>6</td>\n",
              "      <td>7</td>\n",
              "      <td>False</td>\n",
              "      <td>False</td>\n",
              "      <td>Japan</td>\n",
              "      <td>Pets &amp; Animals</td>\n",
              "      <td>2018</td>\n",
              "    </tr>\n",
              "  </tbody>\n",
              "</table>\n",
              "</div>"
            ],
            "text/plain": [
              "      video_id  ... publish_year\n",
              "0  T7Ux7BbkPDw  ...         2018\n",
              "1  m0zFDr69XFI  ...         2018\n",
              "2  33xKehpPEd4  ...         2018\n",
              "3  guzXOdxVAFY  ...         2018\n",
              "4  OdM4Wh1ssP8  ...         2018\n",
              "\n",
              "[5 rows x 15 columns]"
            ]
          },
          "metadata": {
            "tags": []
          },
          "execution_count": 54
        }
      ]
    },
    {
      "cell_type": "code",
      "metadata": {
        "id": "v4BWQhy1rhCJ"
      },
      "source": [
        "youtube['publish_year'] = pd.DatetimeIndex(youtube['publishedAt']).year"
      ],
      "execution_count": null,
      "outputs": []
    },
    {
      "cell_type": "markdown",
      "metadata": {
        "id": "zqouL9lhtYx9"
      },
      "source": [
        "## Youtube API"
      ]
    },
    {
      "cell_type": "code",
      "metadata": {
        "id": "GWsQmh-itd4_",
        "outputId": "321449d9-a145-4363-a8a5-c22860ee9983",
        "colab": {
          "base_uri": "https://localhost:8080/"
        }
      },
      "source": [
        "#install\n",
        "! pip install google-api-python-client"
      ],
      "execution_count": null,
      "outputs": [
        {
          "output_type": "stream",
          "text": [
            "Requirement already satisfied: google-api-python-client in /usr/local/lib/python3.6/dist-packages (1.7.12)\n",
            "Requirement already satisfied: google-auth-httplib2>=0.0.3 in /usr/local/lib/python3.6/dist-packages (from google-api-python-client) (0.0.4)\n",
            "Requirement already satisfied: google-auth>=1.4.1 in /usr/local/lib/python3.6/dist-packages (from google-api-python-client) (1.17.2)\n",
            "Requirement already satisfied: httplib2<1dev,>=0.17.0 in /usr/local/lib/python3.6/dist-packages (from google-api-python-client) (0.17.4)\n",
            "Requirement already satisfied: uritemplate<4dev,>=3.0.0 in /usr/local/lib/python3.6/dist-packages (from google-api-python-client) (3.0.1)\n",
            "Requirement already satisfied: six<2dev,>=1.6.1 in /usr/local/lib/python3.6/dist-packages (from google-api-python-client) (1.15.0)\n",
            "Requirement already satisfied: rsa<5,>=3.1.4; python_version >= \"3\" in /usr/local/lib/python3.6/dist-packages (from google-auth>=1.4.1->google-api-python-client) (4.6)\n",
            "Requirement already satisfied: pyasn1-modules>=0.2.1 in /usr/local/lib/python3.6/dist-packages (from google-auth>=1.4.1->google-api-python-client) (0.2.8)\n",
            "Requirement already satisfied: setuptools>=40.3.0 in /usr/local/lib/python3.6/dist-packages (from google-auth>=1.4.1->google-api-python-client) (50.3.2)\n",
            "Requirement already satisfied: cachetools<5.0,>=2.0.0 in /usr/local/lib/python3.6/dist-packages (from google-auth>=1.4.1->google-api-python-client) (4.1.1)\n",
            "Requirement already satisfied: pyasn1>=0.1.3 in /usr/local/lib/python3.6/dist-packages (from rsa<5,>=3.1.4; python_version >= \"3\"->google-auth>=1.4.1->google-api-python-client) (0.4.8)\n"
          ],
          "name": "stdout"
        }
      ]
    },
    {
      "cell_type": "code",
      "metadata": {
        "id": "oLm7XN65vPPi"
      },
      "source": [
        "from googleapiclient.discovery import build\n",
        "youtubeApiKey = '' \n",
        "youtube_api = build('youtube','v3',developerKey=youtubeApiKey)"
      ],
      "execution_count": null,
      "outputs": []
    },
    {
      "cell_type": "code",
      "metadata": {
        "id": "DsBLYMDavUj0"
      },
      "source": [
        "snipetts = youtube_api.search().list(part='snippet',type='channel', q='nptelhrd').execute()\n",
        "#snipetts"
      ],
      "execution_count": null,
      "outputs": []
    },
    {
      "cell_type": "markdown",
      "metadata": {
        "id": "1kZWukpFlOns"
      },
      "source": [
        "## Channel Analysis"
      ]
    },
    {
      "cell_type": "markdown",
      "metadata": {
        "id": "hIa-1ohkqsqS"
      },
      "source": [
        "### United States"
      ]
    },
    {
      "cell_type": "markdown",
      "metadata": {
        "id": "M-C2BozIp7YT"
      },
      "source": [
        "#### Top 5 channels in US for 2018 and 2020\n",
        "\n"
      ]
    },
    {
      "cell_type": "code",
      "metadata": {
        "id": "9Ur4DHdspXC8",
        "outputId": "b0a7acba-7b1f-489d-eeeb-6b02315ac463",
        "colab": {
          "base_uri": "https://localhost:8080/",
          "height": 198
        }
      },
      "source": [
        "youtube_us = youtube[youtube['Country'] == 'United States']\n",
        "channel_views_us = youtube_us.groupby(['channelTitle','Country']).sum().reset_index()\n",
        "channel_views_us[['channelTitle','Country','view_count']].sort_values(by='view_count', ascending=False).head()"
      ],
      "execution_count": null,
      "outputs": [
        {
          "output_type": "execute_result",
          "data": {
            "text/html": [
              "<div>\n",
              "<style scoped>\n",
              "    .dataframe tbody tr th:only-of-type {\n",
              "        vertical-align: middle;\n",
              "    }\n",
              "\n",
              "    .dataframe tbody tr th {\n",
              "        vertical-align: top;\n",
              "    }\n",
              "\n",
              "    .dataframe thead th {\n",
              "        text-align: right;\n",
              "    }\n",
              "</style>\n",
              "<table border=\"1\" class=\"dataframe\">\n",
              "  <thead>\n",
              "    <tr style=\"text-align: right;\">\n",
              "      <th></th>\n",
              "      <th>channelTitle</th>\n",
              "      <th>Country</th>\n",
              "      <th>view_count</th>\n",
              "    </tr>\n",
              "  </thead>\n",
              "  <tbody>\n",
              "    <tr>\n",
              "      <th>49</th>\n",
              "      <td>BLACKPINK</td>\n",
              "      <td>United States</td>\n",
              "      <td>2538592941</td>\n",
              "    </tr>\n",
              "    <tr>\n",
              "      <th>670</th>\n",
              "      <td>ibighit</td>\n",
              "      <td>United States</td>\n",
              "      <td>2011897203</td>\n",
              "    </tr>\n",
              "    <tr>\n",
              "      <th>376</th>\n",
              "      <td>MrBeast</td>\n",
              "      <td>United States</td>\n",
              "      <td>1433655558</td>\n",
              "    </tr>\n",
              "    <tr>\n",
              "      <th>108</th>\n",
              "      <td>Cardi B</td>\n",
              "      <td>United States</td>\n",
              "      <td>1382352355</td>\n",
              "    </tr>\n",
              "    <tr>\n",
              "      <th>652</th>\n",
              "      <td>ZaynVEVO</td>\n",
              "      <td>United States</td>\n",
              "      <td>887024205</td>\n",
              "    </tr>\n",
              "  </tbody>\n",
              "</table>\n",
              "</div>"
            ],
            "text/plain": [
              "    channelTitle        Country  view_count\n",
              "49     BLACKPINK  United States  2538592941\n",
              "670      ibighit  United States  2011897203\n",
              "376      MrBeast  United States  1433655558\n",
              "108      Cardi B  United States  1382352355\n",
              "652     ZaynVEVO  United States   887024205"
            ]
          },
          "metadata": {
            "tags": []
          },
          "execution_count": 61
        }
      ]
    },
    {
      "cell_type": "markdown",
      "metadata": {
        "id": "8FZ6uvtsqnXW"
      },
      "source": [
        "#### Top 5 channels in 2018"
      ]
    },
    {
      "cell_type": "code",
      "metadata": {
        "id": "-etSUTa1qh64",
        "outputId": "b9b24dfd-5d15-4572-a331-b0fa43ddaaa1",
        "colab": {
          "base_uri": "https://localhost:8080/",
          "height": 198
        }
      },
      "source": [
        "youtube_2018 = youtube[(youtube['publish_year'] == 2018) & (youtube['Country'] == 'United States')]\n",
        "channel_views_us_2018 = youtube_2018.groupby(['channelTitle','Country']).sum().reset_index()\n",
        "channel_views_us_2018[['channelTitle','Country','view_count']].sort_values(by='view_count', ascending=False).head()"
      ],
      "execution_count": null,
      "outputs": [
        {
          "output_type": "execute_result",
          "data": {
            "text/html": [
              "<div>\n",
              "<style scoped>\n",
              "    .dataframe tbody tr th:only-of-type {\n",
              "        vertical-align: middle;\n",
              "    }\n",
              "\n",
              "    .dataframe tbody tr th {\n",
              "        vertical-align: top;\n",
              "    }\n",
              "\n",
              "    .dataframe thead th {\n",
              "        text-align: right;\n",
              "    }\n",
              "</style>\n",
              "<table border=\"1\" class=\"dataframe\">\n",
              "  <thead>\n",
              "    <tr style=\"text-align: right;\">\n",
              "      <th></th>\n",
              "      <th>channelTitle</th>\n",
              "      <th>Country</th>\n",
              "      <th>view_count</th>\n",
              "    </tr>\n",
              "  </thead>\n",
              "  <tbody>\n",
              "    <tr>\n",
              "      <th>364</th>\n",
              "      <td>ibighit</td>\n",
              "      <td>United States</td>\n",
              "      <td>2011897203</td>\n",
              "    </tr>\n",
              "    <tr>\n",
              "      <th>61</th>\n",
              "      <td>Cardi B</td>\n",
              "      <td>United States</td>\n",
              "      <td>896558471</td>\n",
              "    </tr>\n",
              "    <tr>\n",
              "      <th>355</th>\n",
              "      <td>ZaynVEVO</td>\n",
              "      <td>United States</td>\n",
              "      <td>838561451</td>\n",
              "    </tr>\n",
              "    <tr>\n",
              "      <th>86</th>\n",
              "      <td>Diplo</td>\n",
              "      <td>United States</td>\n",
              "      <td>700357966</td>\n",
              "    </tr>\n",
              "    <tr>\n",
              "      <th>90</th>\n",
              "      <td>DrakeVEVO</td>\n",
              "      <td>United States</td>\n",
              "      <td>583521598</td>\n",
              "    </tr>\n",
              "  </tbody>\n",
              "</table>\n",
              "</div>"
            ],
            "text/plain": [
              "    channelTitle        Country  view_count\n",
              "364      ibighit  United States  2011897203\n",
              "61       Cardi B  United States   896558471\n",
              "355     ZaynVEVO  United States   838561451\n",
              "86         Diplo  United States   700357966\n",
              "90     DrakeVEVO  United States   583521598"
            ]
          },
          "metadata": {
            "tags": []
          },
          "execution_count": 62
        }
      ]
    },
    {
      "cell_type": "markdown",
      "metadata": {
        "id": "II1CgqUrsr4p"
      },
      "source": [
        "#### Top 5 channels in 2020"
      ]
    },
    {
      "cell_type": "code",
      "metadata": {
        "id": "SfWqGctwswL4",
        "outputId": "975a7ebe-4149-47fd-9b34-86a649dfdc82",
        "colab": {
          "base_uri": "https://localhost:8080/",
          "height": 198
        }
      },
      "source": [
        "youtube_2020 = youtube[(youtube['publish_year'] == 2020) & (youtube['Country'] == 'United States')]\n",
        "channel_views_us_2020 = youtube_2020.groupby(['channelTitle','Country']).sum().reset_index()\n",
        "channel_views_us_2020[['channelTitle','Country','view_count']].sort_values(by='view_count', ascending=False).head()"
      ],
      "execution_count": null,
      "outputs": [
        {
          "output_type": "execute_result",
          "data": {
            "text/html": [
              "<div>\n",
              "<style scoped>\n",
              "    .dataframe tbody tr th:only-of-type {\n",
              "        vertical-align: middle;\n",
              "    }\n",
              "\n",
              "    .dataframe tbody tr th {\n",
              "        vertical-align: top;\n",
              "    }\n",
              "\n",
              "    .dataframe thead th {\n",
              "        text-align: right;\n",
              "    }\n",
              "</style>\n",
              "<table border=\"1\" class=\"dataframe\">\n",
              "  <thead>\n",
              "    <tr style=\"text-align: right;\">\n",
              "      <th></th>\n",
              "      <th>channelTitle</th>\n",
              "      <th>Country</th>\n",
              "      <th>view_count</th>\n",
              "    </tr>\n",
              "  </thead>\n",
              "  <tbody>\n",
              "    <tr>\n",
              "      <th>28</th>\n",
              "      <td>BLACKPINK</td>\n",
              "      <td>United States</td>\n",
              "      <td>2522068915</td>\n",
              "    </tr>\n",
              "    <tr>\n",
              "      <th>229</th>\n",
              "      <td>MrBeast</td>\n",
              "      <td>United States</td>\n",
              "      <td>1411587353</td>\n",
              "    </tr>\n",
              "    <tr>\n",
              "      <th>62</th>\n",
              "      <td>Cardi B</td>\n",
              "      <td>United States</td>\n",
              "      <td>485793884</td>\n",
              "    </tr>\n",
              "    <tr>\n",
              "      <th>27</th>\n",
              "      <td>BANGTANTV</td>\n",
              "      <td>United States</td>\n",
              "      <td>441994377</td>\n",
              "    </tr>\n",
              "    <tr>\n",
              "      <th>267</th>\n",
              "      <td>Ozuna</td>\n",
              "      <td>United States</td>\n",
              "      <td>385274362</td>\n",
              "    </tr>\n",
              "  </tbody>\n",
              "</table>\n",
              "</div>"
            ],
            "text/plain": [
              "    channelTitle        Country  view_count\n",
              "28     BLACKPINK  United States  2522068915\n",
              "229      MrBeast  United States  1411587353\n",
              "62       Cardi B  United States   485793884\n",
              "27     BANGTANTV  United States   441994377\n",
              "267        Ozuna  United States   385274362"
            ]
          },
          "metadata": {
            "tags": []
          },
          "execution_count": 63
        }
      ]
    },
    {
      "cell_type": "markdown",
      "metadata": {
        "id": "-geTXarKscu5"
      },
      "source": [
        "#### Channel Statisitcs for 2020"
      ]
    },
    {
      "cell_type": "code",
      "metadata": {
        "id": "7ndKiqohscL2"
      },
      "source": [
        ""
      ],
      "execution_count": null,
      "outputs": []
    },
    {
      "cell_type": "markdown",
      "metadata": {
        "id": "Ruv9WRgCtXju"
      },
      "source": [
        "### Japan"
      ]
    },
    {
      "cell_type": "markdown",
      "metadata": {
        "id": "jh54KNb1qI7r"
      },
      "source": [
        "#### Top 5 channels in Japan for 2018 and 2020\n",
        "\n",
        "\n",
        "\n"
      ]
    },
    {
      "cell_type": "code",
      "metadata": {
        "id": "ESx18qD5lOny",
        "outputId": "796c6410-d551-4758-cc4a-052059b0a87a",
        "colab": {
          "base_uri": "https://localhost:8080/",
          "height": 198
        }
      },
      "source": [
        "youtube_jp = youtube[youtube['Country'] == 'Japan']\n",
        "channel_views_jp = youtube_jp.groupby(['channelTitle','Country']).sum().reset_index()\n",
        "channel_views_jp[['channelTitle','Country','view_count']].sort_values(by='view_count', ascending=False).head()"
      ],
      "execution_count": null,
      "outputs": [
        {
          "output_type": "execute_result",
          "data": {
            "text/html": [
              "<div>\n",
              "<style scoped>\n",
              "    .dataframe tbody tr th:only-of-type {\n",
              "        vertical-align: middle;\n",
              "    }\n",
              "\n",
              "    .dataframe tbody tr th {\n",
              "        vertical-align: top;\n",
              "    }\n",
              "\n",
              "    .dataframe thead th {\n",
              "        text-align: right;\n",
              "    }\n",
              "</style>\n",
              "<table border=\"1\" class=\"dataframe\">\n",
              "  <thead>\n",
              "    <tr style=\"text-align: right;\">\n",
              "      <th></th>\n",
              "      <th>channelTitle</th>\n",
              "      <th>Country</th>\n",
              "      <th>view_count</th>\n",
              "    </tr>\n",
              "  </thead>\n",
              "  <tbody>\n",
              "    <tr>\n",
              "      <th>77</th>\n",
              "      <td>BLACKPINK</td>\n",
              "      <td>Japan</td>\n",
              "      <td>2844143163</td>\n",
              "    </tr>\n",
              "    <tr>\n",
              "      <th>454</th>\n",
              "      <td>SMTOWN</td>\n",
              "      <td>Japan</td>\n",
              "      <td>685791056</td>\n",
              "    </tr>\n",
              "    <tr>\n",
              "      <th>62</th>\n",
              "      <td>Apple</td>\n",
              "      <td>Japan</td>\n",
              "      <td>523728736</td>\n",
              "    </tr>\n",
              "    <tr>\n",
              "      <th>73</th>\n",
              "      <td>BANGTANTV</td>\n",
              "      <td>Japan</td>\n",
              "      <td>328918868</td>\n",
              "    </tr>\n",
              "    <tr>\n",
              "      <th>99</th>\n",
              "      <td>Cardi B</td>\n",
              "      <td>Japan</td>\n",
              "      <td>247810667</td>\n",
              "    </tr>\n",
              "  </tbody>\n",
              "</table>\n",
              "</div>"
            ],
            "text/plain": [
              "    channelTitle Country  view_count\n",
              "77     BLACKPINK   Japan  2844143163\n",
              "454       SMTOWN   Japan   685791056\n",
              "62         Apple   Japan   523728736\n",
              "73     BANGTANTV   Japan   328918868\n",
              "99       Cardi B   Japan   247810667"
            ]
          },
          "metadata": {
            "tags": []
          },
          "execution_count": 66
        }
      ]
    },
    {
      "cell_type": "markdown",
      "metadata": {
        "id": "3jHbOZVatgo0"
      },
      "source": [
        "#### Top 5 channels in 2018"
      ]
    },
    {
      "cell_type": "code",
      "metadata": {
        "id": "d23jV_6Fo2ak",
        "outputId": "34068401-e312-4835-d965-2c942c5681ab",
        "colab": {
          "base_uri": "https://localhost:8080/",
          "height": 198
        }
      },
      "source": [
        "youtube_jp = youtube[(youtube['Country'] == 'Japan') & (youtube['publish_year'] == 2018)]\n",
        "channel_views_jp = youtube_jp.groupby(['channelTitle','Country']).sum().reset_index()\n",
        "channel_views_jp[['channelTitle','Country','view_count']].sort_values(by='view_count', ascending=False).head()"
      ],
      "execution_count": null,
      "outputs": [
        {
          "output_type": "execute_result",
          "data": {
            "text/html": [
              "<div>\n",
              "<style scoped>\n",
              "    .dataframe tbody tr th:only-of-type {\n",
              "        vertical-align: middle;\n",
              "    }\n",
              "\n",
              "    .dataframe tbody tr th {\n",
              "        vertical-align: top;\n",
              "    }\n",
              "\n",
              "    .dataframe thead th {\n",
              "        text-align: right;\n",
              "    }\n",
              "</style>\n",
              "<table border=\"1\" class=\"dataframe\">\n",
              "  <thead>\n",
              "    <tr style=\"text-align: right;\">\n",
              "      <th></th>\n",
              "      <th>channelTitle</th>\n",
              "      <th>Country</th>\n",
              "      <th>view_count</th>\n",
              "    </tr>\n",
              "  </thead>\n",
              "  <tbody>\n",
              "    <tr>\n",
              "      <th>589</th>\n",
              "      <td>ibighit</td>\n",
              "      <td>Japan</td>\n",
              "      <td>138038653</td>\n",
              "    </tr>\n",
              "    <tr>\n",
              "      <th>373</th>\n",
              "      <td>PewDiePie</td>\n",
              "      <td>Japan</td>\n",
              "      <td>43615630</td>\n",
              "    </tr>\n",
              "    <tr>\n",
              "      <th>448</th>\n",
              "      <td>SpaceX</td>\n",
              "      <td>Japan</td>\n",
              "      <td>42450504</td>\n",
              "    </tr>\n",
              "    <tr>\n",
              "      <th>99</th>\n",
              "      <td>Coachella</td>\n",
              "      <td>Japan</td>\n",
              "      <td>38740070</td>\n",
              "    </tr>\n",
              "    <tr>\n",
              "      <th>158</th>\n",
              "      <td>GOLAZO TV</td>\n",
              "      <td>Japan</td>\n",
              "      <td>24725534</td>\n",
              "    </tr>\n",
              "  </tbody>\n",
              "</table>\n",
              "</div>"
            ],
            "text/plain": [
              "    channelTitle Country  view_count\n",
              "589      ibighit   Japan   138038653\n",
              "373    PewDiePie   Japan    43615630\n",
              "448       SpaceX   Japan    42450504\n",
              "99     Coachella   Japan    38740070\n",
              "158    GOLAZO TV   Japan    24725534"
            ]
          },
          "metadata": {
            "tags": []
          },
          "execution_count": 67
        }
      ]
    },
    {
      "cell_type": "markdown",
      "metadata": {
        "id": "6CN8mBrdu7hb"
      },
      "source": [
        "#### Top 5 channels in 2018"
      ]
    },
    {
      "cell_type": "code",
      "metadata": {
        "id": "xi-aMSOjnmNU",
        "outputId": "c0632fdb-f811-4ed3-9249-b07fce393a4a",
        "colab": {
          "base_uri": "https://localhost:8080/",
          "height": 198
        }
      },
      "source": [
        "youtube_jp = youtube[(youtube['Country'] == 'Japan') & (youtube['publish_year'] == 2020)]\n",
        "channel_views_jp = youtube_jp.groupby(['channelTitle','Country']).sum().reset_index()\n",
        "channel_views_jp[['channelTitle','Country','view_count']].sort_values(by='view_count', ascending=False).head()"
      ],
      "execution_count": null,
      "outputs": [
        {
          "output_type": "execute_result",
          "data": {
            "text/html": [
              "<div>\n",
              "<style scoped>\n",
              "    .dataframe tbody tr th:only-of-type {\n",
              "        vertical-align: middle;\n",
              "    }\n",
              "\n",
              "    .dataframe tbody tr th {\n",
              "        vertical-align: top;\n",
              "    }\n",
              "\n",
              "    .dataframe thead th {\n",
              "        text-align: right;\n",
              "    }\n",
              "</style>\n",
              "<table border=\"1\" class=\"dataframe\">\n",
              "  <thead>\n",
              "    <tr style=\"text-align: right;\">\n",
              "      <th></th>\n",
              "      <th>channelTitle</th>\n",
              "      <th>Country</th>\n",
              "      <th>view_count</th>\n",
              "    </tr>\n",
              "  </thead>\n",
              "  <tbody>\n",
              "    <tr>\n",
              "      <th>9</th>\n",
              "      <td>BLACKPINK</td>\n",
              "      <td>Japan</td>\n",
              "      <td>2841162351</td>\n",
              "    </tr>\n",
              "    <tr>\n",
              "      <th>49</th>\n",
              "      <td>SMTOWN</td>\n",
              "      <td>Japan</td>\n",
              "      <td>666075571</td>\n",
              "    </tr>\n",
              "    <tr>\n",
              "      <th>3</th>\n",
              "      <td>Apple</td>\n",
              "      <td>Japan</td>\n",
              "      <td>518280387</td>\n",
              "    </tr>\n",
              "    <tr>\n",
              "      <th>8</th>\n",
              "      <td>BANGTANTV</td>\n",
              "      <td>Japan</td>\n",
              "      <td>307984363</td>\n",
              "    </tr>\n",
              "    <tr>\n",
              "      <th>13</th>\n",
              "      <td>Cardi B</td>\n",
              "      <td>Japan</td>\n",
              "      <td>247810667</td>\n",
              "    </tr>\n",
              "  </tbody>\n",
              "</table>\n",
              "</div>"
            ],
            "text/plain": [
              "   channelTitle Country  view_count\n",
              "9     BLACKPINK   Japan  2841162351\n",
              "49       SMTOWN   Japan   666075571\n",
              "3         Apple   Japan   518280387\n",
              "8     BANGTANTV   Japan   307984363\n",
              "13      Cardi B   Japan   247810667"
            ]
          },
          "metadata": {
            "tags": []
          },
          "execution_count": 68
        }
      ]
    }
  ]
}